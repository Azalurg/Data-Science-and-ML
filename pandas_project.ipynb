{
 "cells": [
  {
   "cell_type": "code",
   "execution_count": 17,
   "id": "cbd86534-2a06-411b-ae73-b68f6ea2c474",
   "metadata": {},
   "outputs": [
    {
     "name": "stdout",
     "output_type": "stream",
     "text": [
      "[['faculty of teacher education and sport', 'sogn og fjordane university collegesogndal', 'norway'], ['oslo university hospital', 'national centre for epilepsy', 'division for clinical neuroscience', 'section for adult epileptology', 'department of neurology', 'p.o. box', 'baerum postterminal', 'g.f. henriksens vei', 'sandvika', 'oslo', 'norway'], ['department of sports science and clinical biomechanics', 'university of southern denmark', 'campusvej', 'odense m', 'denmark; bergen university college', 'institute of occupational therapy', 'physiotherapy and radiography', 'department of health sciences', 'bergen', 'norway'], ['department of gynecology and obstetrics', 'horsens regional hospital', 'horsens', 'denmark department of research', 'denmark department of health science and technology', 'aalborg university', 'aalborg', 'denmark danish center of systematic reviews: a joanna briggs institute centre of excellence', 'the center of clinical guidelines - clearing house', 'denmark faculty of nursing and health sciences', 'nord universitybodø', 'norway'], ['adepartment of cancer research and molecular medicine', 'faculty of medicine', 'norwegian university of science and technology (ntnu)', 'trondheim bdepartment of internal medicine', 'levanger hospital', 'health trust nord-trøndelag', 'levanger cdepartment of nephrology ddepartment of emergency', 'clinic of emergency medicine and prehospital care', 'st. olav university hospitaltrondheim', 'norway'], ['universitetet i bergen', 'norge'], ['from the departments of rheumatology and clinical epidemiology', 'leiden university medical center', 'leiden', 'the netherlands; leeds institute of rheumatic and musculoskeletal medicine', 'university of leeds; national institute for health research', 'leeds musculoskeletal biomedical research unit', 'leeds', 'uk; department of rheumatology', 'pitié salpêtriere hospital', 'aphp', 'université pierre et marie curie', 'paris', 'france; spire sciences inc.', 'boca raton', 'florida', 'usa; department of diagnostic imaging', 'sheba medical center', 'tel aviv university', 'tel aviv', 'israel; departments of radiology and medicine', 'university of california san francisco', 'san francisco', 'california', 'usa; copenhagen center for arthritis research', 'center for rheumatology and spine diseases', 'glostrup hospital; department of clinical medicine', 'university of copenhagen', 'copenhagen', 'denmark; department of rheumatology', 'diakonhjemmet hospitaloslo', 'norway'], ['school of biological sciences', 'university of aberdeen', 'aberdeen ab tz', 'scotland', 'uk; department of arctic and marine biology', 'faculty of biosciences', 'fisheries and economy', 'university of tromsø', 'tromsø', 'norway'], ['department of neurobiology', 'care sciences and society', 'karolinska institutet', 'stockholm', 'sweden department of geriatric medicine', 'memory clinic', 'karolinska university hospital-huddinge', 'sweden centre for age-related medicine', 'stavanger university hospitalstavanger', 'norway'], ['sarah l. kerns', 'chunkit fung', 'annalynn m. williams', 'and deepak m. sahasrabudhe', 'university of rochester medical center', 'rochester; darren r. feldman', 'memorial sloan kettering cancer center', 'new york', 'ny; patrick o. monahan', 'shirin ardeshir-rouhani-fard', 'mohammad i. abu zaid', 'timothy e. stump', 'ryan cook', 'lawrence h. einhorn', 'and lois b. travis', 'indiana university', 'indianapolis', 'in; howard d. sesso', \"brigham and women's hospital; clair beard\", 'dana-farber cancer institute', 'boston', 'ma; robert j. hamilton', 'princess margaret cancer centre', 'toronto', 'ontario; christian kollmannsberger', 'university of british columbia', 'vancouver', 'british columbia', 'canada; david j. vaughn', 'university of pennsylvania', 'philadelphia', 'pa; robert a. huddart', 'the royal marsden hospital', 'london', 'united kingdom; jeri kim', 'md anderson cancer center', 'houston', 'tx; and sophie d. fossa', 'oslo university hospitaloslo', 'norway']]\n",
      "10 21615\n",
      "CPU times: user 1.25 s, sys: 3.91 ms, total: 1.25 s\n",
      "Wall time: 1.25 s\n"
     ]
    }
   ],
   "source": [
    "%%time\n",
    "def move_head(arr, index: int):\n",
    "    arr = arr = [arr[index]] + arr[:index] + arr[index + 1:]\n",
    "\n",
    "def similarity(arr1, arr2):\n",
    "    counter = 0\n",
    "    total = max(len(arr1), len(arr2))\n",
    "    for str1 in arr1:\n",
    "        for str2 in arr2:\n",
    "            if str1 in str2 or str2 in str1:\n",
    "                counter += 1\n",
    "    return counter / total * 100\n",
    "\n",
    "def data_filter(data):\n",
    "    filtered_data = []\n",
    "    for w in data:\n",
    "        word = \"\"\n",
    "        for c in w:\n",
    "            if not c.isdigit():\n",
    "                word += c\n",
    "                \n",
    "        word = word.strip()\n",
    "        \n",
    "        if len(word) > 3 and word not in filtered_data:\n",
    "            filtered_data.append(word)\n",
    "    return filtered_data\n",
    "\n",
    "\n",
    "import pandas as pd\n",
    "\n",
    "\n",
    "good_addresses = []\n",
    "count_addresses = 0\n",
    "for x in range(0, 134, 10):\n",
    "    addresses = pd.read_table(f\"./data/{x}/ADDRESSES.csv\", sep=',')\n",
    "    \n",
    "    for index, row in addresses.iterrows():\n",
    "        a = row['address']\n",
    "        count_addresses += 1\n",
    "        data = data_filter(str(row['name']).split(\",\") + str(row['address']).split(\",\"))\n",
    "        flag = True\n",
    "        for index, ga in enumerate(good_addresses):\n",
    "            if similarity(ga, data) > 10:\n",
    "                move_head(good_addresses, index)\n",
    "                flag = False\n",
    "                break\n",
    "        if flag:\n",
    "            good_addresses.append(data)\n",
    "            # print(index, \"ADD\", data)\n",
    "            \n",
    "print(good_addresses)\n",
    "\n",
    "print(len(good_addresses), count_addresses)\n",
    "    \n",
    "    \n",
    "\n",
    "# 5676 136401\n"
   ]
  },
  {
   "cell_type": "code",
   "execution_count": 22,
   "id": "bef5beeb-67f0-46ce-9c4a-521218cc826d",
   "metadata": {},
   "outputs": [
    {
     "name": "stdout",
     "output_type": "stream",
     "text": [
      "CPU times: user 2.25 s, sys: 0 ns, total: 2.25 s\n",
      "Wall time: 2.25 s\n"
     ]
    },
    {
     "data": {
      "text/plain": [
       "0     faculty of teacher education and sport centre...\n",
       "Name: clear, dtype: object"
      ]
     },
     "execution_count": 22,
     "metadata": {},
     "output_type": "execute_result"
    }
   ],
   "source": [
    "%%time\n",
    "import re\n",
    "\n",
    "def data_filter(name: str, address: str):\n",
    "    data = name.split(\",\") + address.split(\",\")\n",
    "    filtered_data = []\n",
    "    for word in data:\n",
    "        cleaned_word = word.strip().lower()\n",
    "        cleaned_word = re.sub(r'[^a-zA-Z\\s]', ' ', cleaned_word)\n",
    "        cleaned_word = re.sub(r'\\s+', ' ', cleaned_word)\n",
    "        if len(cleaned_word) > 2:\n",
    "            filtered_data.append(cleaned_word)\n",
    "    return \",\".join(filtered_data)\n",
    "            \n",
    "\n",
    "def similarity(data1: str, data2: str):\n",
    "    arr1, arr2 = data1.split(\"'\"), data2.split(\"'\")\n",
    "    counter = 0\n",
    "    total = max(len(arr1), len(arr2))\n",
    "    for str1 in arr1:\n",
    "        for str2 in arr2:\n",
    "            if str1 in str2 or str2 in str1:\n",
    "                counter += 1\n",
    "    return counter / total * 100\n",
    "\n",
    "import pandas as pd\n",
    "import os\n",
    "\n",
    "addresses = []\n",
    "good_addresses = pd.DataFrame(columns=[\"clear\", \"index\"])\n",
    "\n",
    "for x in range(0, 134, 10):\n",
    "    data = pd.read_table(f\"./data/{x}/ADDRESSES.csv\", sep=',')\n",
    "    addresses.append(data)\n",
    "\n",
    "df = pd.concat(addresses, ignore_index=True)\n",
    "df = df.assign(clear=lambda x: data_filter(str(x[\"name\"]), str(x[\"address\"])))\n",
    "\n",
    "for index, address in df.iterrows():\n",
    "    flag = True\n",
    "    for index_2, ga in good_addresses.iterrows():\n",
    "        if similarity(ga[\"clear\"], address[\"clear\"]) > 10:\n",
    "            # print(ga[\"clear\"], address[\"clear\"])\n",
    "            flag = False\n",
    "            break\n",
    "    if flag:    \n",
    "        good_addresses.loc[-1] = [address[\"clear\"], index]\n",
    "        good_addresses.index += 1\n",
    "\n",
    "good_addresses[\"clear\"]\n"
   ]
  },
  {
   "cell_type": "code",
   "execution_count": null,
   "id": "94732f1b-6a7b-4223-a17a-5d0ff304b481",
   "metadata": {},
   "outputs": [],
   "source": [
    "import os\n",
    "import pandas as pd\n",
    "\n",
    "dfs = []\n",
    "\n",
    "for dirpath, dirnames, filenames in os.walk(\"./data/\"):\n",
    "    if dirnames:\n",
    "        continue\n",
    "    addresses = pd.read_table(os.path.join(dirpath, \"ADDRESSES.csv\"), sep=',')\n",
    "    addresses_people = pd.read_table(os.path.join(dirpath, \"ADDRESSES_PEOPLE.csv\"), sep=',')\n",
    "    people = pd.read_table(os.path.join(dirpath, \"PEOPLE.csv\"), sep=\",\")\n",
    "    people_publications = pd.read_table(os.path.join(dirpath, \"PEOPLE_PUBLICATIONS.csv\"), sep=\",\")\n",
    "    publications = pd.read_table(os.path.join(dirpath, \"PUBLICATIONS.csv\"), sep=\",\")\n",
    "\n",
    "    addresses.rename(columns={\"temp_id\": \"address_uuid\"}, inplace=True)\n",
    "    people.rename(columns={\"temp_id\": \"person_uuid\"}, inplace=True)\n",
    "    publications.rename(columns={\"temp_id\": \"publication_uuid\"}, inplace=True)\n",
    "    \n",
    "    merged_1 = pd.merge(addresses, addresses_people, on='address_uuid', how=\"inner\")\n",
    "    merged_2 = pd.merge(merged_1, people, on=\"person_uuid\", how=\"inner\")\n",
    "    merged_3 = pd.merge(merged_2, people_publications, on=\"person_uuid\", how=\"inner\")\n",
    "    data = pd.merge(merged_3, publications, on=\"publication_uuid\", how=\"inner\")\n",
    "\n",
    "    dfs.append(data)\n",
    "\n",
    "df = pd.concat(dfs, ignore_index=True)\n",
    "\n",
    "df.head()"
   ]
  },
  {
   "cell_type": "code",
   "execution_count": null,
   "id": "e43c1184-133c-4495-9cba-99a6b654fc61",
   "metadata": {},
   "outputs": [],
   "source": [
    "df['id'] = df['address_uuid'].astype(str) + \"_\" + df['person_uuid'].astype(str) + \"_\" + df['publication_uuid'].astype(str)\n",
    "df = df[['id'] + [col for col in df.columns if col != 'id']]\n",
    "df.drop(columns=['address_uuid', 'person_uuid', \"publication_uuid\"], inplace=True)"
   ]
  },
  {
   "cell_type": "code",
   "execution_count": null,
   "id": "b2f8b3cc-1534-475b-b325-b3fa33b0571e",
   "metadata": {},
   "outputs": [],
   "source": [
    "df.groupby('address').size().reset_index(name='count').sort_values(by='count', ascending=False)"
   ]
  },
  {
   "cell_type": "code",
   "execution_count": null,
   "id": "7e4243df-8e11-4fd2-8e8b-666e7fe88149",
   "metadata": {},
   "outputs": [],
   "source": [
    "visited = set()\n",
    "c = 0\n",
    "i = 0\n",
    "for index, row in df.iterrows():\n",
    "    i+=1\n",
    "    current_address = row['address']\n",
    "    current_name = row['name']\n",
    "    v = str(current_address) + \", \" + str(current_name)\n",
    "    if v in visited:\n",
    "        c += 1\n",
    "        continue\n",
    "    visited.add(v)\n",
    "\n",
    "c, i, c-i\n",
    "    \n",
    "    "
   ]
  },
  {
   "cell_type": "code",
   "execution_count": null,
   "id": "a6735721-09a5-450e-adb3-6ce4f6e6b23e",
   "metadata": {},
   "outputs": [],
   "source": [
    "df.at[1, \"firstname\"] = \"Paweł\"\n",
    "df.iloc[1]"
   ]
  }
 ],
 "metadata": {
  "kernelspec": {
   "display_name": "Python 3 (ipykernel)",
   "language": "python",
   "name": "python3"
  },
  "language_info": {
   "codemirror_mode": {
    "name": "ipython",
    "version": 3
   },
   "file_extension": ".py",
   "mimetype": "text/x-python",
   "name": "python",
   "nbconvert_exporter": "python",
   "pygments_lexer": "ipython3",
   "version": "3.10.12"
  }
 },
 "nbformat": 4,
 "nbformat_minor": 5
}
