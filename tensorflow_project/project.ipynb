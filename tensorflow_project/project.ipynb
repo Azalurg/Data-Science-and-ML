{
 "cells": [
  {
   "cell_type": "markdown",
   "metadata": {},
   "source": [
    "# Tensorflow project (CNN Classifier)\n",
    "\n",
    "https://www.tensorflow.org/tutorials/images/cnn\n",
    "\n",
    "http://cs231n.github.io/\n",
    "\n",
    "Trained model should be able to classify input images to one of 43 classes (for testing purposes 10 classes might be enough).\n",
    "\n",
    "## [Data](https://sid.erda.dk/public/)\n",
    "\n",
    "- [Train dataset](https://sid.erda.dk/public/archives/daaeac0d7ce1152aea9b61d9f1e19370/GTSRB_Final_Training_Images.zip)\n",
    "- [Test dataset](https://sid.erda.dk/public/archives/daaeac0d7ce1152aea9b61d9f1e19370/GTSRB_Final_Test_Images.zip)\n",
    "- [Test data csv with assigned classification](https://sid.erda.dk/public/archives/daaeac0d7ce1152aea9b61d9f1e19370/GTSRB_Final_Test_GT.zip)\n",
    "\n",
    "## Image format\n",
    "\n",
    "- The images contain one traffic sign each\n",
    "- Images contain a border of 10 % around the actual traffic sign (at least 5 pixels) to allow for edge-based approaches\n",
    "- Images are stored in PPM format (Portable Pixmap, P6)\n",
    "- Image sizes vary between 15x15 to 250x250 pixels\n",
    "- Images are not necessarily squared\n",
    "- The actual traffic sign is not necessarily centered within the image.This is true for images that were close to the image border in the full camera image\n",
    "- The bounding box of the traffic sign is part of the annotatinos (see below)\n",
    "\n",
    "## Annotation format\n",
    "\n",
    "Annotations are provided in CSV files. Fields are separated by “;” (semicolon). Annotations contain the following information:\n",
    "\n",
    "- Filename: Filename of corresponding image\n",
    "- Width: Width of the image\n",
    "- Height: Height of the image\n",
    "- ROI.x1: X-coordinate of top-left corner of traffic sign bounding box\n",
    "- ROI.y1: Y-coordinate of top-left corner of traffic sign bounding box\n",
    "- ROI.x2: X-coordinate of bottom-right corner of traffic sign bounding box\n",
    "- ROI.y2: Y-coordinate of bottom-right corner of traffic sign bounding box\n",
    "\n"
   ]
  },
  {
   "cell_type": "code",
   "execution_count": 1,
   "metadata": {},
   "outputs": [
    {
     "name": "stderr",
     "output_type": "stream",
     "text": [
      "2024-04-03 14:46:44.643381: I external/local_tsl/tsl/cuda/cudart_stub.cc:32] Could not find cuda drivers on your machine, GPU will not be used.\n",
      "2024-04-03 14:46:44.645941: I external/local_tsl/tsl/cuda/cudart_stub.cc:32] Could not find cuda drivers on your machine, GPU will not be used.\n",
      "2024-04-03 14:46:44.684501: I tensorflow/core/platform/cpu_feature_guard.cc:210] This TensorFlow binary is optimized to use available CPU instructions in performance-critical operations.\n",
      "To enable the following instructions: AVX2 FMA, in other operations, rebuild TensorFlow with the appropriate compiler flags.\n",
      "2024-04-03 14:46:45.427588: W tensorflow/compiler/tf2tensorrt/utils/py_utils.cc:38] TF-TRT Warning: Could not find TensorRT\n"
     ]
    },
    {
     "data": {
      "text/plain": [
       "'2.16.1'"
      ]
     },
     "execution_count": 1,
     "metadata": {},
     "output_type": "execute_result"
    }
   ],
   "source": [
    "import tensorflow as tf\n",
    "import matplotlib.pyplot as plt\n",
    "import pandas as pd\n",
    "import numpy as np\n",
    "import os\n",
    "from PIL import Image\n",
    "\n",
    "from tensorflow.keras.datasets import cifar10\n",
    "\n",
    "%matplotlib inline\n",
    "tf.__version__"
   ]
  },
  {
   "cell_type": "markdown",
   "metadata": {},
   "source": [
    "## Loading data"
   ]
  },
  {
   "cell_type": "code",
   "execution_count": 4,
   "metadata": {},
   "outputs": [
    {
     "data": {
      "text/plain": [
       "<matplotlib.image.AxesImage at 0x74b02f3e5cf0>"
      ]
     },
     "execution_count": 4,
     "metadata": {},
     "output_type": "execute_result"
    },
    {
     "data": {
      "image/png": "[encoded data removed]",
      "text/plain": [
       "<Figure size 640x480 with 1 Axes>"
      ]
     },
     "metadata": {},
     "output_type": "display_data"
    }
   ],
   "source": [
    "img = Image.open(\"./GTSRB/Final_Training/Images/00000/00000_00000.ppm\")\n",
    "plt.imshow(img)"
   ]
  },
  {
   "cell_type": "code",
   "execution_count": 14,
   "metadata": {},
   "outputs": [],
   "source": [
    "data_range = range(0, 1)\n",
    "training_data_path = \"./GTSRB/Final_Training/Images/\"\n",
    "\n",
    "csv_data = []\n",
    "X_train = []\n",
    "y_train = []\n",
    "\n",
    "for i in data_range:\n",
    "    number = \"0000\" + str(i)\n",
    "    data_path = os.path.join(training_data_path, number)\n",
    "    data_set_csv=pd.read_csv(os.path.join(data_path, \"GT-\"+number+\".csv\"), delimiter=\";\")\n",
    "    # csv_data.append(data_set_csv)\n",
    "\n",
    "    data_set_csv[\"Filename\"].apply(lambda x: X_train.append(Image.open(os.path.join(data_path, x))))\n",
    "    data_set_csv[\"ClassId\"].apply(lambda y: y_train.append(y))"
   ]
  },
  {
   "cell_type": "code",
   "execution_count": 16,
   "metadata": {},
   "outputs": [
    {
     "data": {
      "text/plain": [
       "<matplotlib.image.AxesImage at 0x74b02ad1e4a0>"
      ]
     },
     "execution_count": 16,
     "metadata": {},
     "output_type": "execute_result"
    },
    {
     "data": {
      "image/png": "[encoded data removed]",
      "text/plain": [
       "<Figure size 640x480 with 1 Axes>"
      ]
     },
     "metadata": {},
     "output_type": "display_data"
    }
   ],
   "source": [
    "\n",
    "# X_train = X_train / 255.0\n",
    "plt.imshow(X_train[0])\n"
   ]
  }
 ],
 "metadata": {
  "kernelspec": {
   "display_name": "Python 3 (ipykernel)",
   "language": "python",
   "name": "python3"
  },
  "language_info": {
   "codemirror_mode": {
    "name": "ipython",
    "version": 3
   },
   "file_extension": ".py",
   "mimetype": "text/x-python",
   "name": "python",
   "nbconvert_exporter": "python",
   "pygments_lexer": "ipython3",
   "version": "3.10.12"
  }
 },
 "nbformat": 4,
 "nbformat_minor": 2
}
